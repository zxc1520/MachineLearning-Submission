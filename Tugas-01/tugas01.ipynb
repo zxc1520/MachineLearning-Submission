{
 "cells": [
  {
   "cell_type": "code",
   "execution_count": 3,
   "metadata": {},
   "outputs": [
    {
     "name": "stdout",
     "output_type": "stream",
     "text": [
      "  (0, 864)\t0.2029422843668622\n",
      "  (0, 271)\t0.2370496735834505\n",
      "  (0, 838)\t0.1961556695034481\n",
      "  (0, 951)\t0.1961556695034481\n",
      "  (0, 1027)\t0.2370496735834505\n",
      "  (0, 546)\t0.2219569134201942\n",
      "  (0, 794)\t0.2370496735834505\n",
      "  (0, 1489)\t0.2029422843668622\n",
      "  (0, 1189)\t0.2112484296667044\n",
      "  (0, 1432)\t0.2370496735834505\n",
      "  (0, 526)\t0.2370496735834505\n",
      "  (0, 17)\t0.2370496735834505\n",
      "  (0, 12)\t0.2370496735834505\n",
      "  (0, 1822)\t0.1961556695034481\n",
      "  (0, 243)\t0.2219569134201942\n",
      "  (0, 1384)\t0.2112484296667044\n",
      "  (0, 1257)\t0.2029422843668622\n",
      "  (0, 1032)\t0.2370496735834505\n",
      "  (0, 630)\t0.2370496735834505\n",
      "  (0, 1141)\t0.170354425586702\n",
      "  (0, 1074)\t0.1961556695034481\n",
      "  (1, 758)\t0.2531166226863124\n",
      "  (1, 1586)\t0.2531166226863124\n",
      "  (1, 384)\t0.2531166226863124\n",
      "  (1, 706)\t0.2531166226863124\n",
      "  :\t:\n",
      "  (423, 502)\t0.4360193315513609\n",
      "  (423, 1021)\t0.4360193315513609\n",
      "  (423, 1732)\t0.4360193315513609\n",
      "  (423, 1333)\t0.38856159429439363\n",
      "  (423, 1467)\t0.37328361535159316\n",
      "  (423, 910)\t0.37328361535159316\n",
      "  (424, 1760)\t0.28877714698642204\n",
      "  (424, 1660)\t0.28877714698642204\n",
      "  (424, 1523)\t0.28877714698642204\n",
      "  (424, 1177)\t0.28877714698642204\n",
      "  (424, 1482)\t0.28877714698642204\n",
      "  (424, 1556)\t0.28877714698642204\n",
      "  (424, 686)\t0.28877714698642204\n",
      "  (424, 182)\t0.2573457195798969\n",
      "  (424, 1380)\t0.27039094060946556\n",
      "  (424, 1354)\t0.23196940195594248\n",
      "  (424, 874)\t0.22591429217337172\n",
      "  (424, 404)\t0.21147370060391113\n",
      "  (424, 537)\t0.2472270600353238\n",
      "  (424, 796)\t0.2573457195798969\n",
      "  (426, 241)\t0.5060141728547201\n",
      "  (426, 912)\t0.4737966615008551\n",
      "  (426, 541)\t0.4737966615008551\n",
      "  (426, 1376)\t0.3459136866645739\n",
      "  (426, 838)\t0.4187204620621791\n"
     ]
    }
   ],
   "source": [
    "from sklearn.feature_extraction.text import TfidfVectorizer\n",
    "\n",
    "file_data = open('data.txt', 'r').read()\n",
    "file = file_data.split('.')\n",
    "lists = [x.replace('\\n', '') for x in file]\n",
    "\n",
    "vector = TfidfVectorizer(stop_words='english')\n",
    "res = vector.fit_transform(lists)\n",
    "\n",
    "print(res)"
   ]
  },
  {
   "cell_type": "code",
   "execution_count": 4,
   "metadata": {},
   "outputs": [
    {
     "ename": "AttributeError",
     "evalue": "'TfidfVectorizer' object has no attribute 'get_feature_names_out'",
     "output_type": "error",
     "traceback": [
      "\u001b[1;31m---------------------------------------------------------------------------\u001b[0m",
      "\u001b[1;31mAttributeError\u001b[0m                            Traceback (most recent call last)",
      "\u001b[1;32mC:\\Users\\AFIFGH~1\\AppData\\Local\\Temp/ipykernel_2948/1859822535.py\u001b[0m in \u001b[0;36m<module>\u001b[1;34m\u001b[0m\n\u001b[1;32m----> 1\u001b[1;33m \u001b[0mvector\u001b[0m\u001b[1;33m.\u001b[0m\u001b[0mget_feature_names_out\u001b[0m\u001b[1;33m(\u001b[0m\u001b[1;33m)\u001b[0m\u001b[1;33m\u001b[0m\u001b[1;33m\u001b[0m\u001b[0m\n\u001b[0m",
      "\u001b[1;31mAttributeError\u001b[0m: 'TfidfVectorizer' object has no attribute 'get_feature_names_out'"
     ]
    }
   ],
   "source": [
    "vector.get_feature_names()"
   ]
  },
  {
   "cell_type": "code",
   "execution_count": null,
   "metadata": {},
   "outputs": [],
   "source": []
  },
  {
   "cell_type": "code",
   "execution_count": null,
   "metadata": {},
   "outputs": [],
   "source": []
  }
 ],
 "metadata": {
  "kernelspec": {
   "display_name": "Python 3.9.7 ('base')",
   "language": "python",
   "name": "python3"
  },
  "language_info": {
   "codemirror_mode": {
    "name": "ipython",
    "version": 3
   },
   "file_extension": ".py",
   "mimetype": "text/x-python",
   "name": "python",
   "nbconvert_exporter": "python",
   "pygments_lexer": "ipython3",
   "version": "3.9.7"
  },
  "orig_nbformat": 4,
  "vscode": {
   "interpreter": {
    "hash": "15013706f5187a5e10ccf9aec77e8e63e0ec89c392dd4cccbcc41088266e41d8"
   }
  }
 },
 "nbformat": 4,
 "nbformat_minor": 2
}
